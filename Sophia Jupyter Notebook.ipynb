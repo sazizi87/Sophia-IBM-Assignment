{
 "cells": [
  {
   "cell_type": "markdown",
   "metadata": {},
   "source": [
    "<center>\n",
    "    <img src=\"https://s3-api.us-geo.objectstorage.softlayer.net/cf-courses-data/CognitiveClass/Logos/organization_logo/organization_logo.png\" width=\"300\" alt=\"cognitiveclass.ai logo\"  />\n",
    "</center>\n"
   ]
  },
  {
   "cell_type": "markdown",
   "metadata": {},
   "source": [
    "#### Add your code below following the instructions given in the course\n"
   ]
  },
  {
   "cell_type": "markdown",
   "metadata": {},
   "source": [
    "# My Jupyter Notebook on IBM Watson Studio"
   ]
  },
  {
   "cell_type": "markdown",
   "metadata": {},
   "source": [
    "**Sophia Azizi-Zia** \n",
    "Mathematics Teacher"
   ]
  },
  {
   "cell_type": "markdown",
   "metadata": {},
   "source": [
    "*I am interested in data science because as a Statistics teacher I understand it's importance in the field and what it does for data analysis and decision making. It is important for my students to have these skills so I would like to learn more about data science so I can better train my students about this ever changing field.*"
   ]
  },
  {
   "cell_type": "markdown",
   "metadata": {},
   "source": [
    "### Code shows first 10 rows in Pascal's Triangle"
   ]
  },
  {
   "cell_type": "code",
   "execution_count": 32,
   "metadata": {},
   "outputs": [
    {
     "name": "stdout",
     "output_type": "stream",
     "text": [
      "           1 \n",
      "          1 1 \n",
      "         1 2 1 \n",
      "        1 3 3 1 \n",
      "       1 4 6 4 1 \n",
      "      1 5 10 10 5 1 \n",
      "     1 6 15 20 15 6 1 \n",
      "    1 7 21 35 35 21 7 1 \n",
      "   1 8 28 56 70 56 28 8 1 \n",
      "  1 9 36 84 126 126 84 36 9 1 \n"
     ]
    }
   ],
   "source": [
    "# input n\n",
    "n = 10\n",
    "for i in range(n):\n",
    "    for j in range(n-i+1):\n",
    " \n",
    "        # for left spacing\n",
    "        print(end=\" \")\n",
    " \n",
    "    for j in range(i+1):\n",
    " \n",
    "        # nCr = n!/((n-r)!*r!)\n",
    "        print(factorial(i)//(factorial(j)*factorial(i-j)), end=\" \")\n",
    " \n",
    "    # for new line\n",
    "    print()"
   ]
  },
  {
   "cell_type": "markdown",
   "metadata": {},
   "source": [
    "# Y=-3x+4\n",
    "|X|Y|\n",
    "|---|---|\n",
    "|0|4|\n",
    "|1|1|\n",
    "|2|-2|\n",
    "|3|-5|\n",
    "\n",
    "-Thank you for viewing my notebook."
   ]
  },
  {
   "cell_type": "code",
   "execution_count": null,
   "metadata": {},
   "outputs": [],
   "source": []
  }
 ],
 "metadata": {
  "kernelspec": {
   "display_name": "Python",
   "language": "python",
   "name": "conda-env-python-py"
  },
  "language_info": {
   "codemirror_mode": {
    "name": "ipython",
    "version": 3
   },
   "file_extension": ".py",
   "mimetype": "text/x-python",
   "name": "python",
   "nbconvert_exporter": "python",
   "pygments_lexer": "ipython3",
   "version": "3.7.12"
  }
 },
 "nbformat": 4,
 "nbformat_minor": 4
}
